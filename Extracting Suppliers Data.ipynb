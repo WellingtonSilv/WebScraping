{
 "cells": [
  {
   "cell_type": "markdown",
   "id": "a60f8dd7",
   "metadata": {},
   "source": [
    "# The Problem\n",
    "\n",
    "Our client wants to extract all suppliers name, address, phone, email and website from https://www.pfonline.com/suppliers "
   ]
  },
  {
   "cell_type": "markdown",
   "id": "8d07e7f6",
   "metadata": {},
   "source": [
    "### Loading required libraries, defyning headers and functions"
   ]
  },
  {
   "cell_type": "code",
   "execution_count": 1,
   "id": "c300ad84",
   "metadata": {},
   "outputs": [],
   "source": [
    "import requests\n",
    "from bs4 import BeautifulSoup\n",
    "import time\n",
    "import pandas as pd\n",
    "\n",
    "import warnings\n",
    "warnings.filterwarnings('ignore')\n",
    "\n",
    "headers = { \n",
    "'User-Agent': 'Mozilla/5.0 (Windows NT 10.0; Win64; x64) AppleWebKit/537.36 (KHTML, like Gecko) Chrome/71.0.3578.98 Safari/537.36', \n",
    "'Accept' : 'text/html,application/xhtml+xml,application/xml;q=0.9,*/*;q=0.8', \n",
    "'Accept-Language' : 'en-US,en;q=0.5',\n",
    "'Accept-Encoding' : 'gzip', \n",
    "'DNT' : '1', # Do Not Track Request Header \n",
    "'Connection' : 'close'\n",
    "}\n",
    "\n",
    "def get_page(url):\n",
    "    page = requests.get(url, headers = headers)\n",
    "    soup = BeautifulSoup(page.text, 'html.parser')\n",
    "    return soup"
   ]
  },
  {
   "cell_type": "markdown",
   "id": "4fb26caa",
   "metadata": {},
   "source": [
    "### Getting all links from all suppliers types"
   ]
  },
  {
   "cell_type": "code",
   "execution_count": 2,
   "id": "1777ae86",
   "metadata": {},
   "outputs": [],
   "source": [
    "# getting the main page\n",
    "soup = get_page('https://www.pfonline.com/suppliers')\n",
    "\n",
    "\n",
    "# getting the link for each supllier segment\n",
    "links = []\n",
    "\n",
    "a_tags = soup.body.main.find(id = 'directoryBrowse').find('div',{'class':'row'}).find_all('a', href = True)\n",
    "\n",
    "for a in range(0,len(a_tags)):\n",
    "    \n",
    "    link = 'https://www.pfonline.com'+a_tags[a]['href']\n",
    "    \n",
    "    if link==link.replace('category',''):\n",
    "        links.append(link)"
   ]
  },
  {
   "cell_type": "code",
   "execution_count": 3,
   "id": "339384d2",
   "metadata": {},
   "outputs": [
    {
     "data": {
      "text/plain": [
       "['https://www.pfonline.com/suppliers/product/755',\n",
       " 'https://www.pfonline.com/suppliers/product/1949',\n",
       " 'https://www.pfonline.com/suppliers/product/4313',\n",
       " 'https://www.pfonline.com/suppliers/product/4302',\n",
       " 'https://www.pfonline.com/suppliers/product/3387',\n",
       " 'https://www.pfonline.com/suppliers/product/4432',\n",
       " 'https://www.pfonline.com/suppliers/product/2286',\n",
       " 'https://www.pfonline.com/suppliers/product/5005',\n",
       " 'https://www.pfonline.com/suppliers/product/3186',\n",
       " 'https://www.pfonline.com/suppliers/product/2514']"
      ]
     },
     "execution_count": 3,
     "metadata": {},
     "output_type": "execute_result"
    }
   ],
   "source": [
    "links[0:10]"
   ]
  },
  {
   "cell_type": "markdown",
   "id": "2b8bcb21",
   "metadata": {},
   "source": [
    "### For each supplier type get link for each supplier"
   ]
  },
  {
   "cell_type": "code",
   "execution_count": 4,
   "id": "966cdd9b",
   "metadata": {},
   "outputs": [],
   "source": [
    "final_links = []\n",
    " \n",
    "## going through each segment links\n",
    "for p in links:\n",
    "    \n",
    "    # getting the segment page\n",
    "    soup_product = get_page(p)\n",
    "\n",
    "    a_tags = soup_product.body.main.find('div', {'class':'col-xs-12'}).find_all('a', href = True)\n",
    "\n",
    "    for a in range(0,len(a_tags)):\n",
    "\n",
    "        if 'suppliers' in a_tags[a]['href']:\n",
    "            link = 'https://www.pfonline.com'+a_tags[a]['href']\n",
    "\n",
    "            if (link in final_links)==False:\n",
    "                final_links.append(link)\n",
    "\n",
    "    time.sleep(1)"
   ]
  },
  {
   "cell_type": "code",
   "execution_count": 5,
   "id": "9e3f8fd8",
   "metadata": {},
   "outputs": [
    {
     "data": {
      "text/plain": [
       "['https://www.pfonline.com/suppliers/reliant-finishing-systems',\n",
       " 'https://www.pfonline.com/suppliers/venjakob-maschinenbau-co-kg',\n",
       " 'https://www.pfonline.com/suppliers/a-e-aubin-company',\n",
       " 'https://www.pfonline.com/suppliers/advanced-finishing-technologies',\n",
       " 'https://www.pfonline.com/suppliers/bel-air-finishing-supply',\n",
       " 'https://www.pfonline.com/suppliers/best-technology',\n",
       " 'https://www.pfonline.com/suppliers/blastec',\n",
       " 'https://www.pfonline.com/suppliers/clemco-industries',\n",
       " 'https://www.pfonline.com/suppliers/comco-inc',\n",
       " 'https://www.pfonline.com/suppliers/cool-clean-technologies']"
      ]
     },
     "execution_count": 5,
     "metadata": {},
     "output_type": "execute_result"
    }
   ],
   "source": [
    "final_links[0:10]"
   ]
  },
  {
   "cell_type": "markdown",
   "id": "a64a6a73",
   "metadata": {},
   "source": [
    "### Getting all requested data from each supplier"
   ]
  },
  {
   "cell_type": "code",
   "execution_count": 6,
   "id": "40bac8ef",
   "metadata": {},
   "outputs": [],
   "source": [
    "# defyning a database to storage all final data\n",
    "data_base = pd.DataFrame(columns = ['supplier','address','phone','email','site'])\n",
    "    \n",
    "# going through each supplier link \n",
    "for fl in final_links:\n",
    "\n",
    "    if 'https://www.pfonline.com/suppliers' in fl:\n",
    "        # getting the supplier data page\n",
    "        final_soup = get_page(fl)\n",
    "\n",
    "        # getting the supplier name\n",
    "        sup = final_soup.find('h1',{'class':'txt-center'})\n",
    "\n",
    "        if sup!=None:\n",
    "            supplier = sup.text\n",
    "        else:\n",
    "            supplier = 'NA'\n",
    "\n",
    "        # getting the supplier address\n",
    "        add = final_soup.find('p',{'class':'font-bold'})\n",
    "\n",
    "        if add!=None:\n",
    "            if len(add.text.split())>7:\n",
    "\n",
    "                address = \" \".join(add.text.split()[0:6])\n",
    "            else:\n",
    "\n",
    "                address = \" \".join(final_soup.find('p',{'class':'font-weight-bold'}).text.split()[0:8])\n",
    "\n",
    "        else:\n",
    "\n",
    "                address = \" \".join(final_soup.find('p',{'class':'font-weight-bold'}).text.split()[0:11])\n",
    "\n",
    "        # getting supplier phone number\n",
    "        ph = final_soup.find('span',{'class':'d-block company-contact-phone'})\n",
    "\n",
    "        if ph!=None:\n",
    "            phone = ph.text.replace('\\r\\n','').replace('                                            ','').replace('                                        ','').replace('\\n','').replace('\\n','')\n",
    "        else:\n",
    "            phone = 'NA'\n",
    "\n",
    "        # getting supplier email\n",
    "\n",
    "        mail = final_soup.find('span',{'class':'d-block company-contact-email'})\n",
    "\n",
    "        if mail!=None:\n",
    "            email = mail.text.replace('\\n','')\n",
    "        else:\n",
    "            email = 'NA'\n",
    "\n",
    "\n",
    "        # getting supplier site\n",
    "        website = final_soup.find_all('a',{'class':'font-weight-bold lg word-break-all'})\n",
    "\n",
    "        if website!=None and len(website)!=0:\n",
    "            site = website[0]['href']\n",
    "        else:\n",
    "            site = 'NA'\n",
    "\n",
    "        data_base = data_base.append({'supplier':supplier,\n",
    "                                      'address':address,\n",
    "                                      'phone':phone,\n",
    "                                      'email':email,\n",
    "                                      'site':site}, ignore_index=True)"
   ]
  },
  {
   "cell_type": "code",
   "execution_count": 7,
   "id": "22119f6d",
   "metadata": {
    "scrolled": true
   },
   "outputs": [
    {
     "data": {
      "text/html": [
       "<div>\n",
       "<style scoped>\n",
       "    .dataframe tbody tr th:only-of-type {\n",
       "        vertical-align: middle;\n",
       "    }\n",
       "\n",
       "    .dataframe tbody tr th {\n",
       "        vertical-align: top;\n",
       "    }\n",
       "\n",
       "    .dataframe thead th {\n",
       "        text-align: right;\n",
       "    }\n",
       "</style>\n",
       "<table border=\"1\" class=\"dataframe\">\n",
       "  <thead>\n",
       "    <tr style=\"text-align: right;\">\n",
       "      <th></th>\n",
       "      <th>supplier</th>\n",
       "      <th>address</th>\n",
       "      <th>phone</th>\n",
       "      <th>email</th>\n",
       "      <th>site</th>\n",
       "    </tr>\n",
       "  </thead>\n",
       "  <tbody>\n",
       "    <tr>\n",
       "      <th>0</th>\n",
       "      <td>Reliant Finishing Systems</td>\n",
       "      <td>2541 Hwy. 67 S Somerville, AL</td>\n",
       "      <td>888-770-0021 | 256-355-9000</td>\n",
       "      <td>info@reliantfinishingsystems.com</td>\n",
       "      <td>http://www.reliantfinishingsystems.com</td>\n",
       "    </tr>\n",
       "    <tr>\n",
       "      <th>1</th>\n",
       "      <td>Venjakob Maschinenbau GmbH Co. KG</td>\n",
       "      <td>Augsburger Strasse 2-6 Rheda-Wiedenbrück, 3337...</td>\n",
       "      <td>49 5242 9603 0</td>\n",
       "      <td>info@venjakob.de</td>\n",
       "      <td>http://www.venjakob-nutro.com</td>\n",
       "    </tr>\n",
       "    <tr>\n",
       "      <th>2</th>\n",
       "      <td>A. E. Aubin Company</td>\n",
       "      <td>PO Box 899 New Milford, CT 06776 US</td>\n",
       "      <td>800-423-0697 | 860-350-3377                  ...</td>\n",
       "      <td>sales@aeaubin.com</td>\n",
       "      <td>http://www.aeaubin.com</td>\n",
       "    </tr>\n",
       "    <tr>\n",
       "      <th>3</th>\n",
       "      <td>Advanced Finishing Technologies</td>\n",
       "      <td>835 W River Ctr. Grand Rapids, MI 49321</td>\n",
       "      <td>866-478-1338 | 616-785-0400                  ...</td>\n",
       "      <td>sales@advancedfinish.com</td>\n",
       "      <td>http://www.advancedfinish.com</td>\n",
       "    </tr>\n",
       "    <tr>\n",
       "      <th>4</th>\n",
       "      <td>Bel Air Finishing Supply</td>\n",
       "      <td>101 Circuit Dr. Quonset Industrial Park North ...</td>\n",
       "      <td>401-667-7902</td>\n",
       "      <td>info@belairfinishing.com</td>\n",
       "      <td>http://www.belairfinishing.com</td>\n",
       "    </tr>\n",
       "  </tbody>\n",
       "</table>\n",
       "</div>"
      ],
      "text/plain": [
       "                            supplier  \\\n",
       "0          Reliant Finishing Systems   \n",
       "1  Venjakob Maschinenbau GmbH Co. KG   \n",
       "2                A. E. Aubin Company   \n",
       "3    Advanced Finishing Technologies   \n",
       "4           Bel Air Finishing Supply   \n",
       "\n",
       "                                             address  \\\n",
       "0                      2541 Hwy. 67 S Somerville, AL   \n",
       "1  Augsburger Strasse 2-6 Rheda-Wiedenbrück, 3337...   \n",
       "2                PO Box 899 New Milford, CT 06776 US   \n",
       "3            835 W River Ctr. Grand Rapids, MI 49321   \n",
       "4  101 Circuit Dr. Quonset Industrial Park North ...   \n",
       "\n",
       "                                               phone  \\\n",
       "0                        888-770-0021 | 256-355-9000   \n",
       "1                                     49 5242 9603 0   \n",
       "2   800-423-0697 | 860-350-3377                  ...   \n",
       "3   866-478-1338 | 616-785-0400                  ...   \n",
       "4   401-667-7902                                       \n",
       "\n",
       "                              email                                    site  \n",
       "0  info@reliantfinishingsystems.com  http://www.reliantfinishingsystems.com  \n",
       "1                  info@venjakob.de           http://www.venjakob-nutro.com  \n",
       "2                 sales@aeaubin.com                  http://www.aeaubin.com  \n",
       "3          sales@advancedfinish.com           http://www.advancedfinish.com  \n",
       "4          info@belairfinishing.com          http://www.belairfinishing.com  "
      ]
     },
     "execution_count": 7,
     "metadata": {},
     "output_type": "execute_result"
    }
   ],
   "source": [
    "data_base.head()"
   ]
  },
  {
   "cell_type": "code",
   "execution_count": 9,
   "id": "3968107c",
   "metadata": {},
   "outputs": [
    {
     "data": {
      "text/plain": [
       "(681, 5)"
      ]
     },
     "execution_count": 9,
     "metadata": {},
     "output_type": "execute_result"
    }
   ],
   "source": [
    "data_base.shape"
   ]
  },
  {
   "cell_type": "code",
   "execution_count": null,
   "id": "166b5b51",
   "metadata": {},
   "outputs": [],
   "source": [
    "data_base.to_csv('suppliers.csv')"
   ]
  }
 ],
 "metadata": {
  "kernelspec": {
   "display_name": "Python 3 (ipykernel)",
   "language": "python",
   "name": "python3"
  },
  "language_info": {
   "codemirror_mode": {
    "name": "ipython",
    "version": 3
   },
   "file_extension": ".py",
   "mimetype": "text/x-python",
   "name": "python",
   "nbconvert_exporter": "python",
   "pygments_lexer": "ipython3",
   "version": "3.9.12"
  }
 },
 "nbformat": 4,
 "nbformat_minor": 5
}
