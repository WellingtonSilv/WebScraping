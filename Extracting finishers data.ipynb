{
 "cells": [
  {
   "cell_type": "markdown",
   "id": "384fe8dc",
   "metadata": {},
   "source": [
    "# The Problem\n",
    "\n",
    "Our client wants to extract finisher name, address, city, state, postal code, country, contact person and phone number from https://finishingandcoating.com/"
   ]
  },
  {
   "cell_type": "markdown",
   "id": "a0f93b9c",
   "metadata": {},
   "source": [
    "### Loading required libraries, defyning headers and functions"
   ]
  },
  {
   "cell_type": "code",
   "execution_count": 1,
   "id": "d16f3eba",
   "metadata": {},
   "outputs": [],
   "source": [
    "import requests\n",
    "from bs4 import BeautifulSoup\n",
    "import time\n",
    "import pandas as pd\n",
    "\n",
    "import warnings\n",
    "warnings.filterwarnings('ignore')\n",
    "\n",
    "headers = { \n",
    "'User-Agent': 'Mozilla/5.0 (Windows NT 10.0; Win64; x64) AppleWebKit/537.36 (KHTML, like Gecko) Chrome/71.0.3578.98 Safari/537.36', \n",
    "'Accept' : 'text/html,application/xhtml+xml,application/xml;q=0.9,*/*;q=0.8', \n",
    "'Accept-Language' : 'en-US,en;q=0.5',\n",
    "'Accept-Encoding' : 'gzip', \n",
    "'DNT' : '1', # Do Not Track Request Header \n",
    "'Connection' : 'close'\n",
    "}\n",
    "\n",
    "def get_page(url):\n",
    "    page = requests.get(url, headers = headers)\n",
    "    soup = BeautifulSoup(page.text, 'html.parser')\n",
    "    return soup"
   ]
  },
  {
   "cell_type": "markdown",
   "id": "94416790",
   "metadata": {},
   "source": [
    "### Getting all pages links from a to z"
   ]
  },
  {
   "cell_type": "code",
   "execution_count": 2,
   "id": "4016d8fa",
   "metadata": {},
   "outputs": [],
   "source": [
    "# defyning the soup with get_page function\n",
    "soup = get_page('https://finishingandcoating.com/index.php/find-a-finisher/list/alpha/a?site=1')\n",
    "\n",
    "# getting all links\n",
    "az_pages = soup.find_all('ul',{'class':'pagination'})[0].find_all('a',href = True)\n",
    "\n",
    "# putting all links in a list called pages\n",
    "pages = []\n",
    "\n",
    "for page in az_pages:\n",
    "    pages.append('https://finishingandcoating.com'+page['href'])"
   ]
  },
  {
   "cell_type": "code",
   "execution_count": 3,
   "id": "d4a967bd",
   "metadata": {},
   "outputs": [
    {
     "data": {
      "text/plain": [
       "['https://finishingandcoating.com/index.php/find-a-finisher/list/alpha/a/field_name',\n",
       " 'https://finishingandcoating.com/index.php/find-a-finisher/list/alpha/b/field_name',\n",
       " 'https://finishingandcoating.com/index.php/find-a-finisher/list/alpha/c/field_name',\n",
       " 'https://finishingandcoating.com/index.php/find-a-finisher/list/alpha/d/field_name',\n",
       " 'https://finishingandcoating.com/index.php/find-a-finisher/list/alpha/e/field_name',\n",
       " 'https://finishingandcoating.com/index.php/find-a-finisher/list/alpha/f/field_name',\n",
       " 'https://finishingandcoating.com/index.php/find-a-finisher/list/alpha/g/field_name',\n",
       " 'https://finishingandcoating.com/index.php/find-a-finisher/list/alpha/h/field_name',\n",
       " 'https://finishingandcoating.com/index.php/find-a-finisher/list/alpha/i/field_name',\n",
       " 'https://finishingandcoating.com/index.php/find-a-finisher/list/alpha/j/field_name']"
      ]
     },
     "execution_count": 3,
     "metadata": {},
     "output_type": "execute_result"
    }
   ],
   "source": [
    "pages[0:10]"
   ]
  },
  {
   "cell_type": "markdown",
   "id": "89eebe1f",
   "metadata": {},
   "source": [
    "### Going through each a-z page and getting all pages from 1 to N"
   ]
  },
  {
   "cell_type": "code",
   "execution_count": 4,
   "id": "851f2a97",
   "metadata": {},
   "outputs": [],
   "source": [
    "all_finishers_pages = [] # variable to starage all pages\n",
    "\n",
    "# going through each a-z page\n",
    "for page in pages:\n",
    "    \n",
    "    soup = get_page(page)\n",
    "    \n",
    "    p = page.replace('/field_name','?site=').replace('https://finishingandcoating.com','')\n",
    "    \n",
    "    # finding the end page number\n",
    "    \n",
    "    pagination = soup.find_all('ul',{'class':'pagination'})\n",
    "    \n",
    "    if len(pagination)>=3:\n",
    "        end_page = pagination[1]\n",
    "        end_page = end_page.find_all('a',href = True)[len(end_page)-1]['href']\n",
    "        end_page = end_page.replace(p,'')\n",
    "\n",
    "        end_page = int(end_page)\n",
    "    else:\n",
    "        end_page = 1\n",
    "    \n",
    "    for n in range(1,end_page+1):\n",
    "\n",
    "        all_finishers_pages.append(page.replace('/field_name','/?site=')+str(n))\n",
    "        \n",
    "        time.sleep(1)"
   ]
  },
  {
   "cell_type": "code",
   "execution_count": 5,
   "id": "d76e42d5",
   "metadata": {},
   "outputs": [
    {
     "data": {
      "text/plain": [
       "['https://finishingandcoating.com/index.php/find-a-finisher/list/alpha/a/?site=1',\n",
       " 'https://finishingandcoating.com/index.php/find-a-finisher/list/alpha/a/?site=2',\n",
       " 'https://finishingandcoating.com/index.php/find-a-finisher/list/alpha/a/?site=3',\n",
       " 'https://finishingandcoating.com/index.php/find-a-finisher/list/alpha/a/?site=4',\n",
       " 'https://finishingandcoating.com/index.php/find-a-finisher/list/alpha/a/?site=5',\n",
       " 'https://finishingandcoating.com/index.php/find-a-finisher/list/alpha/a/?site=6',\n",
       " 'https://finishingandcoating.com/index.php/find-a-finisher/list/alpha/a/?site=7',\n",
       " 'https://finishingandcoating.com/index.php/find-a-finisher/list/alpha/a/?site=8',\n",
       " 'https://finishingandcoating.com/index.php/find-a-finisher/list/alpha/a/?site=9',\n",
       " 'https://finishingandcoating.com/index.php/find-a-finisher/list/alpha/a/?site=10']"
      ]
     },
     "execution_count": 5,
     "metadata": {},
     "output_type": "execute_result"
    }
   ],
   "source": [
    "all_finishers_pages[0:10]"
   ]
  },
  {
   "cell_type": "markdown",
   "id": "fba91e4f",
   "metadata": {},
   "source": [
    "### For each final page getting each finisher link"
   ]
  },
  {
   "cell_type": "code",
   "execution_count": 6,
   "id": "2eb363af",
   "metadata": {},
   "outputs": [],
   "source": [
    "final_links = []\n",
    "\n",
    "for page in all_finishers_pages:\n",
    "\n",
    "    soup = get_page(page)\n",
    "    \n",
    "    fin_links = soup.find_all('h2',{'class':'namefield'})\n",
    "\n",
    "    for f in fin_links:\n",
    "        final_links.append('https://finishingandcoating.com'+f.find('a',href = True)['href'])"
   ]
  },
  {
   "cell_type": "code",
   "execution_count": 7,
   "id": "f30114d8",
   "metadata": {},
   "outputs": [
    {
     "data": {
      "text/plain": [
       "['https://finishingandcoating.com/index.php/find-a-finisher/1211-a-plus-powder-coaters',\n",
       " 'https://finishingandcoating.com/index.php/find-a-finisher/2558-a-brite-plating',\n",
       " 'https://finishingandcoating.com/index.php/find-a-finisher/2556-a-luster-metal-finishing',\n",
       " 'https://finishingandcoating.com/index.php/find-a-finisher/2555-a-plus-finishing',\n",
       " 'https://finishingandcoating.com/index.php/find-a-finisher/3348-a-l-finishing-company-1',\n",
       " 'https://finishingandcoating.com/index.php/find-a-finisher/931-a-m-metal-finishing',\n",
       " 'https://finishingandcoating.com/index.php/find-a-finisher/1210-a-a-powder-coating',\n",
       " 'https://finishingandcoating.com/index.php/find-a-finisher/1209-a-e-powder-coating',\n",
       " 'https://finishingandcoating.com/index.php/find-a-finisher/2554-a-f-plating',\n",
       " 'https://finishingandcoating.com/index.php/find-a-finisher/2553-a-r-plating']"
      ]
     },
     "execution_count": 7,
     "metadata": {},
     "output_type": "execute_result"
    }
   ],
   "source": [
    "final_links[0:10]"
   ]
  },
  {
   "cell_type": "markdown",
   "id": "ced10c20",
   "metadata": {},
   "source": [
    "### Going through each final link and getting all requested data into a dataframe"
   ]
  },
  {
   "cell_type": "code",
   "execution_count": 8,
   "id": "c177e6cd",
   "metadata": {},
   "outputs": [],
   "source": [
    "data_base = pd.DataFrame(columns = ['finisher',\n",
    "                                    'address',\n",
    "                                    'city',\n",
    "                                    'state',\n",
    "                                    'postal_code',\n",
    "                                    'country',\n",
    "                                    'contact_person',\n",
    "                                    'phone'])\n",
    "\n",
    "for fl in final_links:\n",
    "    \n",
    "    soup = get_page(fl)\n",
    "    \n",
    "    h1 = soup.find('h1',{'class':'namefield'})\n",
    "    \n",
    "    if h1!=None and len(h1)!=0:\n",
    "        finisher = h1.text\n",
    "    else:\n",
    "        finisher = 'NA'\n",
    "    \n",
    "    adrs = soup.find('div',{'class':'spClassViewInbox street'})\n",
    "    \n",
    "    if adrs!=None and len(adrs)!=0:\n",
    "        address = adrs.text\n",
    "    else:\n",
    "        address = 'NA'\n",
    "    \n",
    "    cty = soup.find('div',{'class':'spClassViewInbox city'})\n",
    "    \n",
    "    if cty!=None and len(cty)!=0:\n",
    "        city = cty.text\n",
    "    else:\n",
    "        city = 'NA'\n",
    "        \n",
    "    stt = soup.find('div',{'class':'spClassViewInbox state'})\n",
    "    \n",
    "    if stt!=None and len(stt)!=0:\n",
    "        state = stt.text\n",
    "    else:\n",
    "        state = 'NA'\n",
    "    \n",
    "    cd = soup.find('div',{'class':'spClassViewInbox postcode'})\n",
    "    \n",
    "    if cd!=None and len(cd)!=0:\n",
    "        code = cd.text\n",
    "    else:\n",
    "        code = 'NA'\n",
    "    \n",
    "    cuntry = soup.find('div',{'class':'spClassViewSelect country'})\n",
    "    \n",
    "    if cuntry!=None and len(cuntry)!=0:\n",
    "        country = cuntry.text\n",
    "    else:\n",
    "        country = 'NA'\n",
    "        \n",
    "    cont_p = soup.find_all('div',{'class':'spClassViewInbox'})\n",
    "    \n",
    "    if cont_p!=None and len(cont_p)!=0:\n",
    "        \n",
    "        if len(cont_p)>=5:\n",
    "            contact_person = cont_p[4].text.replace('Contact Person: ','')\n",
    "        else:\n",
    "            contact_person = cont_p[len(cont_p)-1].text.replace('Contact Person: ','')\n",
    "    else:\n",
    "        contact_person = 'NA'\n",
    "        \n",
    "    ph = soup.find('div',{'class':'spClassViewInbox phone'})\n",
    "    \n",
    "    if ph!=None and len(ph)!=0:\n",
    "        phone = ph.text.replace('Phone: ','')\n",
    "    else:\n",
    "        phone = 'NA'\n",
    "    \n",
    "    data_base = data_base.append({'finisher':finisher,\n",
    "                                    'address':address,\n",
    "                                    'city':city,\n",
    "                                    'state':state,\n",
    "                                    'postal_code':code,\n",
    "                                    'country':country,\n",
    "                                    'contact_person':contact_person,\n",
    "                                    'phone':phone}, ignore_index = True)"
   ]
  },
  {
   "cell_type": "code",
   "execution_count": 9,
   "id": "36f9a3e1",
   "metadata": {},
   "outputs": [
    {
     "data": {
      "text/html": [
       "<div>\n",
       "<style scoped>\n",
       "    .dataframe tbody tr th:only-of-type {\n",
       "        vertical-align: middle;\n",
       "    }\n",
       "\n",
       "    .dataframe tbody tr th {\n",
       "        vertical-align: top;\n",
       "    }\n",
       "\n",
       "    .dataframe thead th {\n",
       "        text-align: right;\n",
       "    }\n",
       "</style>\n",
       "<table border=\"1\" class=\"dataframe\">\n",
       "  <thead>\n",
       "    <tr style=\"text-align: right;\">\n",
       "      <th></th>\n",
       "      <th>finisher</th>\n",
       "      <th>address</th>\n",
       "      <th>city</th>\n",
       "      <th>state</th>\n",
       "      <th>postal_code</th>\n",
       "      <th>country</th>\n",
       "      <th>contact_person</th>\n",
       "      <th>phone</th>\n",
       "    </tr>\n",
       "  </thead>\n",
       "  <tbody>\n",
       "    <tr>\n",
       "      <th>0</th>\n",
       "      <td>A Plus Powder Coaters</td>\n",
       "      <td>1384 Kauffman Ave</td>\n",
       "      <td>Columbiana</td>\n",
       "      <td>OH</td>\n",
       "      <td>44408</td>\n",
       "      <td>United States</td>\n",
       "      <td>Robert Bertelsen</td>\n",
       "      <td>330-482-1951</td>\n",
       "    </tr>\n",
       "    <tr>\n",
       "      <th>1</th>\n",
       "      <td>A-Brite Plating</td>\n",
       "      <td>3000 W 121St St</td>\n",
       "      <td>Cleveland</td>\n",
       "      <td>OH</td>\n",
       "      <td>44111</td>\n",
       "      <td>United States</td>\n",
       "      <td>Mojie Mirsalimi</td>\n",
       "      <td>216-252-2995</td>\n",
       "    </tr>\n",
       "    <tr>\n",
       "      <th>2</th>\n",
       "      <td>A-Luster Metal Finishing</td>\n",
       "      <td>Po Box 410068</td>\n",
       "      <td>Kansas City</td>\n",
       "      <td>MO</td>\n",
       "      <td>64141</td>\n",
       "      <td>United States</td>\n",
       "      <td>David Collins</td>\n",
       "      <td>816-471-2937</td>\n",
       "    </tr>\n",
       "    <tr>\n",
       "      <th>3</th>\n",
       "      <td>A-Plus Finishing</td>\n",
       "      <td>Po Box 966</td>\n",
       "      <td>Hudson</td>\n",
       "      <td>NH</td>\n",
       "      <td>03051</td>\n",
       "      <td>United States</td>\n",
       "      <td>Stan Araszkiewicz</td>\n",
       "      <td>603-595-1800</td>\n",
       "    </tr>\n",
       "    <tr>\n",
       "      <th>4</th>\n",
       "      <td>A. L. Finishing Company</td>\n",
       "      <td>925 Schwab Road</td>\n",
       "      <td>Hatfield</td>\n",
       "      <td>PA</td>\n",
       "      <td>19440</td>\n",
       "      <td>United States</td>\n",
       "      <td>Jamie Hemmerle</td>\n",
       "      <td>215-855-9422</td>\n",
       "    </tr>\n",
       "  </tbody>\n",
       "</table>\n",
       "</div>"
      ],
      "text/plain": [
       "                   finisher            address         city state postal_code  \\\n",
       "0     A Plus Powder Coaters  1384 Kauffman Ave   Columbiana    OH       44408   \n",
       "1           A-Brite Plating    3000 W 121St St    Cleveland    OH       44111   \n",
       "2  A-Luster Metal Finishing      Po Box 410068  Kansas City    MO       64141   \n",
       "3          A-Plus Finishing         Po Box 966       Hudson    NH       03051   \n",
       "4   A. L. Finishing Company    925 Schwab Road     Hatfield    PA       19440   \n",
       "\n",
       "         country     contact_person         phone  \n",
       "0  United States   Robert Bertelsen  330-482-1951  \n",
       "1  United States    Mojie Mirsalimi  216-252-2995  \n",
       "2  United States      David Collins  816-471-2937  \n",
       "3  United States  Stan Araszkiewicz  603-595-1800  \n",
       "4  United States     Jamie Hemmerle  215-855-9422  "
      ]
     },
     "execution_count": 9,
     "metadata": {},
     "output_type": "execute_result"
    }
   ],
   "source": [
    "data_base.head()"
   ]
  },
  {
   "cell_type": "code",
   "execution_count": 10,
   "id": "6b5b853f",
   "metadata": {},
   "outputs": [
    {
     "data": {
      "text/plain": [
       "(1071, 8)"
      ]
     },
     "execution_count": 10,
     "metadata": {},
     "output_type": "execute_result"
    }
   ],
   "source": [
    "data_base.shape"
   ]
  },
  {
   "cell_type": "code",
   "execution_count": null,
   "id": "0e12e9d8",
   "metadata": {},
   "outputs": [],
   "source": [
    "data_base.to_csv('finishers.csv')"
   ]
  }
 ],
 "metadata": {
  "kernelspec": {
   "display_name": "Python 3 (ipykernel)",
   "language": "python",
   "name": "python3"
  },
  "language_info": {
   "codemirror_mode": {
    "name": "ipython",
    "version": 3
   },
   "file_extension": ".py",
   "mimetype": "text/x-python",
   "name": "python",
   "nbconvert_exporter": "python",
   "pygments_lexer": "ipython3",
   "version": "3.9.12"
  }
 },
 "nbformat": 4,
 "nbformat_minor": 5
}
