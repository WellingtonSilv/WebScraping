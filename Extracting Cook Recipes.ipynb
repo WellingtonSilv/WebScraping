{
 "cells": [
  {
   "cell_type": "markdown",
   "id": "9f7ef31a",
   "metadata": {},
   "source": [
    "# The Problem"
   ]
  },
  {
   "cell_type": "markdown",
   "id": "cae8155c",
   "metadata": {},
   "source": [
    "A website cooking recipes website owner wants to migrate the recipes data to a new website but when the site was developed a way to download the recipes data was not developed.\n",
    "\n",
    "The client want a python developer that can scrapy all recipes data from 9 pages and get the following data into a CSV file:\n",
    "\n",
    "\n",
    "URL, Publication date, image url, headline, sub-headline, ingredients list and directoins.\n",
    "\n",
    "the site that needs to be scraped is:\n",
    "\n",
    "https://renfroepecan.com/blogs/recipes?page=1"
   ]
  },
  {
   "cell_type": "markdown",
   "id": "2dce2da4",
   "metadata": {},
   "source": [
    "## Loading required libraries"
   ]
  },
  {
   "cell_type": "code",
   "execution_count": 1,
   "id": "d7579ac4",
   "metadata": {},
   "outputs": [],
   "source": [
    "from bs4 import BeautifulSoup\n",
    "from datetime import datetime\n",
    "\n",
    "import time\n",
    "import requests\n",
    "import pandas as pd\n",
    "\n",
    "import warnings\n",
    "warnings.filterwarnings('ignore')"
   ]
  },
  {
   "cell_type": "markdown",
   "id": "4e1095de",
   "metadata": {},
   "source": [
    "## Defyning headers and functions"
   ]
  },
  {
   "cell_type": "code",
   "execution_count": 2,
   "id": "0215139e",
   "metadata": {},
   "outputs": [],
   "source": [
    "headers = { \n",
    "'User-Agent': 'Mozilla/5.0 (Windows NT 10.0; Win64; x64) AppleWebKit/537.36 (KHTML, like Gecko) Chrome/71.0.3578.98 Safari/537.36', \n",
    "'Accept' : 'text/html,application/xhtml+xml,application/xml;q=0.9,*/*;q=0.8', \n",
    "'Accept-Language' : 'en-US,en;q=0.5',\n",
    "'Accept-Encoding' : 'gzip', \n",
    "'DNT' : '1', # Do Not Track Request Header \n",
    "'Connection' : 'close'\n",
    "}\n",
    "\n",
    "def get_page(url):\n",
    "    page = requests.get(url, headers = headers)\n",
    "    soup = BeautifulSoup(page.text, 'html.parser')\n",
    "    return soup"
   ]
  },
  {
   "cell_type": "markdown",
   "id": "09671db2",
   "metadata": {},
   "source": [
    "## Getting all recipes urls from each website page"
   ]
  },
  {
   "cell_type": "code",
   "execution_count": 3,
   "id": "de9533c7",
   "metadata": {
    "scrolled": false
   },
   "outputs": [],
   "source": [
    "recipes_urls = [] # defyning a list to storage all urls\n",
    "\n",
    "for page in range(1,10): # loop. through all 9 pages\n",
    "    \n",
    "    # getting the pages HTML data\n",
    "    soup = get_page('https://renfroepecan.com/blogs/recipes?page='+str(page))\n",
    "\n",
    "    # getting all divs that contain a recipe url\n",
    "    alpha = soup.find_all('div',{'class':'sixteen columns'})[1].find_all('div', {'class':'one-third column alpha article'})\n",
    "\n",
    "    middle = soup.find_all('div',{'class':'sixteen columns'})[1].find_all('div', {'class':'one-third column article'})\n",
    "\n",
    "    omega = soup.find_all('div',{'class':'sixteen columns'})[1].find_all('div', {'class':'one-third column omega article'})\n",
    "\n",
    "    # passing all into a list\n",
    "    cols = [alpha, middle, omega]\n",
    "\n",
    "    for col in cols: # loop through each column of data\n",
    "\n",
    "        for i in range(0,len(col)): # loop through each url from each column alpha, middle and omega\n",
    "\n",
    "            # appending all urls into recipes_urls list\n",
    "            recipes_urls.append('https://renfroepecan.com'+col[i].find('a', href = True)['href'])\n",
    "    \n",
    "    time.sleep(1) # sleeping for 2 seconds to not over request the server"
   ]
  },
  {
   "cell_type": "markdown",
   "id": "f5392540",
   "metadata": {},
   "source": [
    "## Getting all data from each recipe url"
   ]
  },
  {
   "cell_type": "code",
   "execution_count": 4,
   "id": "fa5f1d9e",
   "metadata": {},
   "outputs": [],
   "source": [
    "# creating a empty data frame to storage all requested data\n",
    "recipes_dataset = pd.DataFrame(columns = ['url','publi_date','image_url',\n",
    "                                          'headline','sub_headline',\n",
    "                                          'ingredients1','ingredients2',\n",
    "                                          'directions'])\n",
    "\n",
    "for p in recipes_urls[0:97]: # looping through each url\n",
    "    \n",
    "    soup_recipe = get_page(p) # getting the HTML page\n",
    "    \n",
    "    # extracting publication date\n",
    "    publi_date = soup_recipe.body.find_all('p',{'class':'blog_meta'})[0].text.replace('\\n','')\n",
    "    \n",
    "    # extracting image url\n",
    "    image_url = str(soup_recipe.find_all('div',{'class':'parallax'})[0]).split()[7].replace('src=\"//','').replace('\"/>','')\n",
    "    \n",
    "    # extracting recipe headline\n",
    "    headline = soup_recipe.body.find_all('div',{'class':'shogun-heading-component'})[0:2][0].text.replace('\\n','').replace('          ','')\n",
    "    \n",
    "    # extracting recipe sub-headline\n",
    "    sub_headline = soup_recipe.body.find_all('div',{'class':'shogun-heading-component'})[0:2][1].text.replace('\\n','').replace('          ','')\n",
    "    \n",
    "    # extracting recipe ingredients\n",
    "    if len(soup_recipe.body.find_all('div',{'class':'shg-rich-text shg-theme-text-content'}))==2:\n",
    "        \n",
    "        ingredients1 = soup_recipe.body.find_all('div',{'class':'shg-rich-text shg-theme-text-content'})[0].text.replace('\\n','')\n",
    "        ingredients2 = ''\n",
    "        \n",
    "    if len(soup_recipe.body.find_all('div',{'class':'shg-rich-text shg-theme-text-content'}))>2:\n",
    "        \n",
    "        ingredients1 = soup_recipe.body.find_all('div',{'class':'shg-rich-text shg-theme-text-content'})[0].text.replace('\\n','')\n",
    "        ingredients2 = soup_recipe.body.find_all('div',{'class':'shg-rich-text shg-theme-text-content'})[1].text.replace('\\n','')\n",
    "    \n",
    "    # extracting recipe directions\n",
    "    if len(soup_recipe.body.find_all('div',{'class':'shg-rich-text shg-theme-text-content'}))==2:\n",
    "        directions = soup_recipe.body.find_all('div',{'class':'shg-rich-text shg-theme-text-content'})[1].text.replace('\\n','')\n",
    "    \n",
    "    if len(soup_recipe.body.find_all('div',{'class':'shg-rich-text shg-theme-text-content'}))>2:\n",
    "        directions = soup_recipe.body.find_all('div',{'class':'shg-rich-text shg-theme-text-content'})[2].text.replace('\\n','')\n",
    "    \n",
    "    # storaging each requested data into our empty dataframea\n",
    "    recipes_dataset = recipes_dataset.append({'url':p,\n",
    "                                              'publi_date':publi_date,\n",
    "                                              'image_url':image_url,\n",
    "                                              'headline':headline,\n",
    "                                              'sub_headline':sub_headline,\n",
    "                                              'ingredients1':ingredients1,\n",
    "                                              'ingredients2':ingredients2,\n",
    "                                              'directions':directions},\n",
    "                                            ignore_index = True\n",
    "                                            )\n",
    "    \n",
    "    #time.sleep(2) # sleeping for 2 seconds to not over request the server"
   ]
  },
  {
   "cell_type": "code",
   "execution_count": 5,
   "id": "1a95374b",
   "metadata": {},
   "outputs": [
    {
     "data": {
      "text/plain": [
       "0      January 05, 2022\n",
       "1     December 16, 2021\n",
       "2     December 08, 2021\n",
       "3     December 02, 2021\n",
       "4     December 20, 2021\n",
       "            ...        \n",
       "92    November 03, 2020\n",
       "93      August 22, 2020\n",
       "94      August 19, 2020\n",
       "95      August 16, 2020\n",
       "96      August 15, 2020\n",
       "Name: publi_date, Length: 97, dtype: object"
      ]
     },
     "execution_count": 5,
     "metadata": {},
     "output_type": "execute_result"
    }
   ],
   "source": [
    "recipes_dataset['publi_date'].replace()"
   ]
  },
  {
   "cell_type": "code",
   "execution_count": 6,
   "id": "003131a6",
   "metadata": {},
   "outputs": [],
   "source": [
    "# replacing the comma on each publication date\n",
    "recipes_dataset['publi_date'] = recipes_dataset['publi_date'].apply(lambda x: \"\".join(x for x in x.replace(',','')))"
   ]
  },
  {
   "cell_type": "code",
   "execution_count": 7,
   "id": "172afbc9",
   "metadata": {
    "scrolled": true
   },
   "outputs": [],
   "source": [
    "# converting our string dates to datetime format\n",
    "recipes_dataset['publi_date'] = recipes_dataset['publi_date'].apply(lambda x: datetime.strptime(x,'%B %d %Y'))"
   ]
  },
  {
   "cell_type": "code",
   "execution_count": 8,
   "id": "cf728f01",
   "metadata": {},
   "outputs": [],
   "source": [
    "recipes_dataset = recipes_dataset.sort_values(by = 'publi_date', ascending = False)"
   ]
  },
  {
   "cell_type": "code",
   "execution_count": 9,
   "id": "1fa50329",
   "metadata": {},
   "outputs": [
    {
     "data": {
      "text/html": [
       "<div>\n",
       "<style scoped>\n",
       "    .dataframe tbody tr th:only-of-type {\n",
       "        vertical-align: middle;\n",
       "    }\n",
       "\n",
       "    .dataframe tbody tr th {\n",
       "        vertical-align: top;\n",
       "    }\n",
       "\n",
       "    .dataframe thead th {\n",
       "        text-align: right;\n",
       "    }\n",
       "</style>\n",
       "<table border=\"1\" class=\"dataframe\">\n",
       "  <thead>\n",
       "    <tr style=\"text-align: right;\">\n",
       "      <th></th>\n",
       "      <th>url</th>\n",
       "      <th>publi_date</th>\n",
       "      <th>image_url</th>\n",
       "      <th>headline</th>\n",
       "      <th>sub_headline</th>\n",
       "      <th>ingredients1</th>\n",
       "      <th>ingredients2</th>\n",
       "      <th>directions</th>\n",
       "    </tr>\n",
       "  </thead>\n",
       "  <tbody>\n",
       "    <tr>\n",
       "      <th>0</th>\n",
       "      <td>https://renfroepecan.com/blogs/recipes/salmon-...</td>\n",
       "      <td>2022-01-05</td>\n",
       "      <td>cdn.shopify.com/s/files/1/0011/1702/8412/artic...</td>\n",
       "      <td>Salmon with Pecan Honey Glaze</td>\n",
       "      <td>Make your New Year's Resolution easy! This hea...</td>\n",
       "      <td>• 1 cup pecan halves or pieces• 1 cup honey• 3...</td>\n",
       "      <td></td>\n",
       "      <td>1. Preheat oven to 400°F.2. Spread pecans even...</td>\n",
       "    </tr>\n",
       "    <tr>\n",
       "      <th>4</th>\n",
       "      <td>https://renfroepecan.com/blogs/recipes/whopper...</td>\n",
       "      <td>2021-12-20</td>\n",
       "      <td>cdn.shopify.com/s/files/1/0011/1702/8412/artic...</td>\n",
       "      <td>Whopper Cookies</td>\n",
       "      <td>All of your favorites in one cookie! This whop...</td>\n",
       "      <td>• 1 cup butter or oleo• 1-1/4 cups brown sugar...</td>\n",
       "      <td></td>\n",
       "      <td>1. Preheat oven to 350°F.2. Melt butter. Combi...</td>\n",
       "    </tr>\n",
       "    <tr>\n",
       "      <th>8</th>\n",
       "      <td>https://renfroepecan.com/blogs/recipes/six-lay...</td>\n",
       "      <td>2021-12-17</td>\n",
       "      <td>cdn.shopify.com/s/files/1/0011/1702/8412/artic...</td>\n",
       "      <td>Six Layer Cookie Bars</td>\n",
       "      <td>Six layers of delectable sweetness! This uniqu...</td>\n",
       "      <td>• 1/2 cup margarine, melted• 8 oz. swiss choco...</td>\n",
       "      <td></td>\n",
       "      <td>1. Preheat oven to 350°F (325°F if using a gla...</td>\n",
       "    </tr>\n",
       "    <tr>\n",
       "      <th>1</th>\n",
       "      <td>https://renfroepecan.com/blogs/recipes/sand-tarts</td>\n",
       "      <td>2021-12-16</td>\n",
       "      <td>cdn.shopify.com/s/files/1/0011/1702/8412/artic...</td>\n",
       "      <td>Sand Tarts</td>\n",
       "      <td>Sand tarts are a special butter pecan cookie r...</td>\n",
       "      <td>• 1/2 cup butter, room temperature• 2 tbsp. su...</td>\n",
       "      <td></td>\n",
       "      <td>1. Preheat oven to 325°F.2. Cream butter. Add ...</td>\n",
       "    </tr>\n",
       "    <tr>\n",
       "      <th>5</th>\n",
       "      <td>https://renfroepecan.com/blogs/recipes/praline...</td>\n",
       "      <td>2021-12-09</td>\n",
       "      <td>cdn.shopify.com/s/files/1/0011/1702/8412/artic...</td>\n",
       "      <td>Praline Shortbread Cookies</td>\n",
       "      <td>This pecan shortbread cookie recipe is a class...</td>\n",
       "      <td>• 1 cup butter, softened• 1-1/2 cups flour• 3/...</td>\n",
       "      <td></td>\n",
       "      <td>1. Preheat oven to 325°F.2. Cream together but...</td>\n",
       "    </tr>\n",
       "  </tbody>\n",
       "</table>\n",
       "</div>"
      ],
      "text/plain": [
       "                                                 url publi_date  \\\n",
       "0  https://renfroepecan.com/blogs/recipes/salmon-... 2022-01-05   \n",
       "4  https://renfroepecan.com/blogs/recipes/whopper... 2021-12-20   \n",
       "8  https://renfroepecan.com/blogs/recipes/six-lay... 2021-12-17   \n",
       "1  https://renfroepecan.com/blogs/recipes/sand-tarts 2021-12-16   \n",
       "5  https://renfroepecan.com/blogs/recipes/praline... 2021-12-09   \n",
       "\n",
       "                                           image_url  \\\n",
       "0  cdn.shopify.com/s/files/1/0011/1702/8412/artic...   \n",
       "4  cdn.shopify.com/s/files/1/0011/1702/8412/artic...   \n",
       "8  cdn.shopify.com/s/files/1/0011/1702/8412/artic...   \n",
       "1  cdn.shopify.com/s/files/1/0011/1702/8412/artic...   \n",
       "5  cdn.shopify.com/s/files/1/0011/1702/8412/artic...   \n",
       "\n",
       "                        headline  \\\n",
       "0  Salmon with Pecan Honey Glaze   \n",
       "4                Whopper Cookies   \n",
       "8          Six Layer Cookie Bars   \n",
       "1                     Sand Tarts   \n",
       "5     Praline Shortbread Cookies   \n",
       "\n",
       "                                        sub_headline  \\\n",
       "0  Make your New Year's Resolution easy! This hea...   \n",
       "4  All of your favorites in one cookie! This whop...   \n",
       "8  Six layers of delectable sweetness! This uniqu...   \n",
       "1  Sand tarts are a special butter pecan cookie r...   \n",
       "5  This pecan shortbread cookie recipe is a class...   \n",
       "\n",
       "                                        ingredients1 ingredients2  \\\n",
       "0  • 1 cup pecan halves or pieces• 1 cup honey• 3...                \n",
       "4  • 1 cup butter or oleo• 1-1/4 cups brown sugar...                \n",
       "8  • 1/2 cup margarine, melted• 8 oz. swiss choco...                \n",
       "1  • 1/2 cup butter, room temperature• 2 tbsp. su...                \n",
       "5  • 1 cup butter, softened• 1-1/2 cups flour• 3/...                \n",
       "\n",
       "                                          directions  \n",
       "0  1. Preheat oven to 400°F.2. Spread pecans even...  \n",
       "4  1. Preheat oven to 350°F.2. Melt butter. Combi...  \n",
       "8  1. Preheat oven to 350°F (325°F if using a gla...  \n",
       "1  1. Preheat oven to 325°F.2. Cream butter. Add ...  \n",
       "5  1. Preheat oven to 325°F.2. Cream together but...  "
      ]
     },
     "execution_count": 9,
     "metadata": {},
     "output_type": "execute_result"
    }
   ],
   "source": [
    "recipes_dataset.head()"
   ]
  },
  {
   "cell_type": "code",
   "execution_count": null,
   "id": "5af63f26",
   "metadata": {},
   "outputs": [],
   "source": [
    "recipes_dataset.to_csv('recipes.csv')"
   ]
  },
  {
   "cell_type": "code",
   "execution_count": null,
   "id": "3304599b",
   "metadata": {},
   "outputs": [],
   "source": []
  }
 ],
 "metadata": {
  "kernelspec": {
   "display_name": "Python 3 (ipykernel)",
   "language": "python",
   "name": "python3"
  },
  "language_info": {
   "codemirror_mode": {
    "name": "ipython",
    "version": 3
   },
   "file_extension": ".py",
   "mimetype": "text/x-python",
   "name": "python",
   "nbconvert_exporter": "python",
   "pygments_lexer": "ipython3",
   "version": "3.9.12"
  }
 },
 "nbformat": 4,
 "nbformat_minor": 5
}
